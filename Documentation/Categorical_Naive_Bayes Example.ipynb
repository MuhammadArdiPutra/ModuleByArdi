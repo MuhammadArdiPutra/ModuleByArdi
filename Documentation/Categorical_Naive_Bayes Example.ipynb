{
 "cells": [
  {
   "cell_type": "markdown",
   "metadata": {},
   "source": [
    "# ```Categorical_Naive_Bayes``` Example"
   ]
  },
  {
   "cell_type": "markdown",
   "metadata": {},
   "source": [
    "Importing modules."
   ]
  },
  {
   "cell_type": "code",
   "execution_count": 1,
   "metadata": {},
   "outputs": [],
   "source": [
    "import numpy as np\n",
    "from Ardi.ml import Categorical_Naive_Bayes\n",
    "from sklearn.datasets import make_blobs"
   ]
  },
  {
   "cell_type": "markdown",
   "metadata": {},
   "source": [
    "Creating datapoints `using make_blobs()` function from Sklearn."
   ]
  },
  {
   "cell_type": "code",
   "execution_count": 2,
   "metadata": {},
   "outputs": [],
   "source": [
    "X, y = make_blobs(n_samples=200, centers=3, n_features=4, \n",
    "                  random_state=0)\n",
    "\n",
    "# Just to ensure that no features are having negative value.\n",
    "X = np.round(X)+20"
   ]
  },
  {
   "cell_type": "markdown",
   "metadata": {},
   "source": [
    "Initializing the Naive Bayes object."
   ]
  },
  {
   "cell_type": "code",
   "execution_count": 3,
   "metadata": {},
   "outputs": [],
   "source": [
    "nb = Categorical_Naive_Bayes()"
   ]
  },
  {
   "cell_type": "markdown",
   "metadata": {},
   "source": [
    "Take the data from `X` and `y` that we created earlier using `make_blobs()`."
   ]
  },
  {
   "cell_type": "code",
   "execution_count": 4,
   "metadata": {},
   "outputs": [],
   "source": [
    "nb.take_data_raw(X, y)"
   ]
  },
  {
   "cell_type": "markdown",
   "metadata": {},
   "source": [
    "Predicting the train data itself. Please refer to the comments in the code to find out the passed arguments."
   ]
  },
  {
   "cell_type": "code",
   "execution_count": 5,
   "metadata": {
    "scrolled": false
   },
   "outputs": [
    {
     "data": {
      "text/plain": [
       "array([2, 2, 0, 1, 1, 0, 1, 1, 0, 1, 0, 0, 1, 1, 1, 1, 1, 1, 0, 0, 2, 2,\n",
       "       2, 0, 1, 1, 0, 1, 2, 0, 0, 0, 2, 0, 0, 2, 2, 2, 2, 2, 1, 2, 1, 0,\n",
       "       0, 1, 2, 2, 0, 0, 0, 2, 2, 2, 0, 1, 2, 0, 1, 0, 1, 2, 1, 2, 1, 2,\n",
       "       1, 2, 2, 2, 2, 2, 1, 2, 2, 2, 2, 1, 1, 0, 0, 2, 2, 0, 1, 1, 2, 1,\n",
       "       0, 0, 2, 0, 0, 2, 1, 0, 1, 2, 1, 1, 0, 1, 0, 0, 0, 1, 0, 0, 1, 0,\n",
       "       0, 2, 0, 1, 2, 2, 1, 1, 1, 0, 1, 1, 0, 2, 1, 0, 0, 0, 1, 2, 1, 2,\n",
       "       1, 2, 0, 0, 2, 0, 0, 0, 0, 2, 2, 1, 1, 2, 1, 0, 1, 0, 0, 2, 1, 0,\n",
       "       1, 2, 1, 1, 1, 1, 2, 1, 0, 1, 0, 2, 0, 0, 2, 2, 1, 1, 2, 2, 2, 0,\n",
       "       2, 0, 2, 2, 2, 2, 2, 2, 0, 1, 0, 0, 1, 1, 1, 1, 0, 2, 0, 0, 0, 2,\n",
       "       1, 1], dtype=int64)"
      ]
     },
     "execution_count": 5,
     "metadata": {},
     "output_type": "execute_result"
    }
   ],
   "source": [
    "nb.predict_multiple_samples(X, X, y, return_probability=False)"
   ]
  },
  {
   "cell_type": "markdown",
   "metadata": {},
   "source": [
    "A proof to show that my implementation obtains the same result as the `CategoricalNB()` model from Sklearn."
   ]
  },
  {
   "cell_type": "code",
   "execution_count": 6,
   "metadata": {},
   "outputs": [],
   "source": [
    "from sklearn.naive_bayes import CategoricalNB"
   ]
  },
  {
   "cell_type": "markdown",
   "metadata": {},
   "source": [
    "Initializing the Naive Bayes model."
   ]
  },
  {
   "cell_type": "code",
   "execution_count": 7,
   "metadata": {},
   "outputs": [],
   "source": [
    "nb = CategoricalNB()"
   ]
  },
  {
   "cell_type": "markdown",
   "metadata": {},
   "source": [
    "Fitting the model."
   ]
  },
  {
   "cell_type": "code",
   "execution_count": 8,
   "metadata": {
    "scrolled": true
   },
   "outputs": [
    {
     "data": {
      "text/plain": [
       "CategoricalNB()"
      ]
     },
     "execution_count": 8,
     "metadata": {},
     "output_type": "execute_result"
    }
   ],
   "source": [
    "nb.fit(X, y)"
   ]
  },
  {
   "cell_type": "markdown",
   "metadata": {},
   "source": [
    "Predict the training data itself. Here you can see that my code produces the exact same result as the one obtained using Sklearn's `CategoricalNB()`."
   ]
  },
  {
   "cell_type": "code",
   "execution_count": 9,
   "metadata": {},
   "outputs": [
    {
     "data": {
      "text/plain": [
       "array([2, 2, 0, 1, 1, 0, 1, 1, 0, 1, 0, 0, 1, 1, 1, 1, 1, 1, 0, 0, 2, 2,\n",
       "       2, 0, 1, 1, 0, 1, 2, 0, 0, 0, 2, 0, 0, 2, 2, 2, 2, 2, 1, 2, 1, 0,\n",
       "       0, 1, 2, 2, 0, 0, 0, 2, 2, 2, 0, 1, 2, 0, 1, 0, 1, 2, 1, 2, 1, 2,\n",
       "       1, 2, 2, 2, 2, 2, 1, 2, 2, 2, 2, 1, 1, 0, 0, 2, 2, 0, 1, 1, 2, 1,\n",
       "       0, 0, 2, 0, 0, 2, 1, 0, 1, 2, 1, 1, 0, 1, 0, 0, 0, 1, 0, 0, 1, 0,\n",
       "       0, 2, 0, 1, 2, 2, 1, 1, 1, 0, 1, 1, 0, 2, 1, 0, 0, 0, 1, 2, 1, 2,\n",
       "       1, 2, 0, 0, 2, 0, 0, 0, 0, 2, 2, 1, 1, 2, 1, 0, 1, 0, 0, 2, 1, 0,\n",
       "       1, 2, 1, 1, 0, 1, 2, 1, 0, 1, 0, 2, 0, 0, 2, 2, 1, 1, 2, 2, 2, 0,\n",
       "       2, 0, 2, 2, 2, 2, 2, 2, 0, 1, 0, 0, 1, 1, 1, 1, 0, 2, 0, 0, 0, 2,\n",
       "       1, 1])"
      ]
     },
     "execution_count": 9,
     "metadata": {},
     "output_type": "execute_result"
    }
   ],
   "source": [
    "nb.predict(X)"
   ]
  },
  {
   "cell_type": "code",
   "execution_count": null,
   "metadata": {},
   "outputs": [],
   "source": []
  }
 ],
 "metadata": {
  "kernelspec": {
   "display_name": "Python 3.7.3 64-bit ('base': conda)",
   "language": "python",
   "name": "python37364bitbaseconda65b5f305a1974c36abb2297a98801d43"
  },
  "language_info": {
   "codemirror_mode": {
    "name": "ipython",
    "version": 3
   },
   "file_extension": ".py",
   "mimetype": "text/x-python",
   "name": "python",
   "nbconvert_exporter": "python",
   "pygments_lexer": "ipython3",
   "version": "3.7.3"
  }
 },
 "nbformat": 4,
 "nbformat_minor": 2
}
